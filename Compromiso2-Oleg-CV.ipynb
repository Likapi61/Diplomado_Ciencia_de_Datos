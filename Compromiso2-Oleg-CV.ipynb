{
 "cells": [
  {
   "cell_type": "markdown",
   "id": "b33f37c8-fd00-4f22-8982-908d54a82d4d",
   "metadata": {},
   "source": [
    "**MI CURRICULUM VITAE**"
   ]
  },
  {
   "cell_type": "markdown",
   "id": "8c949c3b-d6d3-464c-a36d-67c3cdfbc5f2",
   "metadata": {},
   "source": [
    "*Luis Guillermo Vargas Aparicio*"
   ]
  },
  {
   "cell_type": "markdown",
   "id": "1344b74a-9dff-4e24-9d61-2a5d8d62af65",
   "metadata": {},
   "source": [
    "## Me encuentras en tweeter así:@LuisGui17167201"
   ]
  },
  {
   "cell_type": "markdown",
   "id": "2476ceb3-2950-4e3f-9b5b-89ca533bfedd",
   "metadata": {},
   "source": [
    "# Vengo de la ciudad amurallada,del sector Getsemani"
   ]
  },
  {
   "cell_type": "markdown",
   "id": "1861a52a-fbaa-4c56-a227-c441ef314b32",
   "metadata": {},
   "source": [
    "##Toda mi niñez fue alredor del mar,y mis estudios los realice dentro del corralito de piedra,esto me permitio aprenderme todos los nombres de las calles de mi hermosa cíudad al ir cambiando las rutas para llegar al destino elegido,ya fuese,la casa o el colegio##"
   ]
  },
  {
   "cell_type": "markdown",
   "id": "e3186ddf-79c8-4425-8c04-0e90531c0f20",
   "metadata": {},
   "source": [
    "### Estudie en la Universidad de Cartagena,de la cual me gradue de Ingeniero Civil,aunque simultaneamente estudiaba Ingenieria Electrica en la Universidad Tecnológica de Bolivar###"
   ]
  },
  {
   "cell_type": "markdown",
   "id": "b6044718-26c4-4997-8ca3-1f6f12eecb1d",
   "metadata": {},
   "source": [
    "#### Después estudie en otras universidades cono la Universidad Industrial de Santander-UIS,La Univarsidad Javeriana y otras."
   ]
  },
  {
   "cell_type": "markdown",
   "id": "5245e18a-2ef6-4bd6-9846-c671b6fb951d",
   "metadata": {},
   "source": [
    "He participado en la construcción de más de 20 Plantas Industriales y de las cuales hemos aportado en el arranque de unas cinco."
   ]
  },
  {
   "cell_type": "markdown",
   "id": "ae7aa785-bf80-453a-9270-9ace0a7fa35f",
   "metadata": {},
   "source": [
    "**ASPIRO SER UN CIENTIFICO DE DATOS CERTIFICADO PARA BRINDAR CONOCIMIENTO A NUESTRO PAIS Y PLANETA YA QUE ME CONSIDERO UN CIUDADANO DEL MUNDO**\n"
   ]
  },
  {
   "cell_type": "code",
   "execution_count": 10,
   "id": "0b288e6f-fbed-456f-b28a-26f295e6d8e2",
   "metadata": {},
   "outputs": [
    {
     "data": {
      "text/html": [
       "<img src=\"../OneDrive/Imágenes/Foto de Luis para Diplomado.jpg\" width=\"255000\" height=\"222600\" align=\"center\"/>"
      ],
      "text/plain": [
       "<IPython.core.display.HTML object>"
      ]
     },
     "execution_count": 10,
     "metadata": {},
     "output_type": "execute_result"
    }
   ],
   "source": [
    "# Librería para leer Código HTML y ejecutarlo\n",
    "from IPython.display import HTML\n",
    "# Código HTML\n",
    "html1 = '<img src=\"../OneDrive/Imágenes/Foto de Luis para Diplomado.jpg\" width=\"255000\" height=\"222600\" align=\"center\"/>'\n",
    "# Ejecutar instrucción a través de Python\n",
    "HTML(html1)"
   ]
  },
  {
   "cell_type": "code",
   "execution_count": null,
   "id": "d106a508",
   "metadata": {},
   "outputs": [],
   "source": []
  },
  {
   "cell_type": "code",
   "execution_count": null,
   "id": "e0abdcbd",
   "metadata": {},
   "outputs": [],
   "source": []
  }
 ],
 "metadata": {
  "kernelspec": {
   "display_name": "Python 3 (ipykernel)",
   "language": "python",
   "name": "python3"
  },
  "language_info": {
   "codemirror_mode": {
    "name": "ipython",
    "version": 3
   },
   "file_extension": ".py",
   "mimetype": "text/x-python",
   "name": "python",
   "nbconvert_exporter": "python",
   "pygments_lexer": "ipython3",
   "version": "3.9.12"
  }
 },
 "nbformat": 4,
 "nbformat_minor": 5
}
