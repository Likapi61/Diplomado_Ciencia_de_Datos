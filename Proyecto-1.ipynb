{
 "cells": [
  {
   "cell_type": "markdown",
   "id": "4d0ff4fd-c769-465c-aff1-da7039c52d11",
   "metadata": {},
   "source": [
    "**CONTROL A ELECCIONES MUNICIPALES EN BOLIVAR**"
   ]
  },
  {
   "cell_type": "markdown",
   "id": "86546efa-8e68-41dd-b9e9-999fa6bba94e",
   "metadata": {},
   "source": [
    "Este es un proyecto ciudadano basado en nuevas tecnologìas que le permitira a la sociedad civil voluntariada llevar a cabo un conteo real de los votos depositados en las urnas,para ejercer un voto soberano,autonomo e independiente,el cual arroje los datos reales sin manipulaciòn."
   ]
  },
  {
   "cell_type": "markdown",
   "id": "68483071-5326-43d9-a738-949f338641a6",
   "metadata": {},
   "source": [
    "*Asesor principal: Profesor.Estadistico Alvaro Mauricio Montenegro."
   ]
  },
  {
   "cell_type": "markdown",
   "id": "2876b812-3ed6-47f6-b98d-ecac712d025b",
   "metadata": {},
   "source": [
    "*Autor:Estudiante.Ingeniero Luis Guillermo Vargas Aparicio."
   ]
  },
  {
   "cell_type": "markdown",
   "id": "44c9fbf9-d895-4450-adf4-3801fa0dc5b2",
   "metadata": {},
   "source": [
    "En los comicios a cargos pùblicos de elecciòn popular nos hemos ido encontrando con un excesivo manoseo de la informaciòn,generando esto mayores eventos probabilisticos de errores humanos,los cuales muchas veces logran alterar la decision voluntaria de una gran comunidad,conllevando esto a inconformidades,protestas y demandas,las cuales alteran ,la convivencia ciudadana.\n",
    "Por ello este proyecto consiste en reducir el ejercicio manual y diriamos que rudimentario para avanzar en un producto màs acabado a nivel de introducciòn de nuevas tecnologìas para el computo de los datos y acercarnos màs a una realidad.\n",
    "Escalaremos de los viejos formatos en fotocopias y escritos manualmente,pasaremos de los formularios tipo Google en linea ,bastante practicados en època de pandemia a unas lecturas de los E-14 basado en Programaciòn Orientado en Objeto-POO,y recopilando los mensajes de los envios en WhatSapp,que deben coincidir con la lectura digital.\n",
    "Estos pasos nos conllevarian al cotejo con las matrices de los E-24 para consolidar datos y cruzarlos con los arrojados con los E-26."
   ]
  },
  {
   "cell_type": "markdown",
   "id": "9ffe8ab5-740a-4003-9532-5acda633706c",
   "metadata": {},
   "source": [
    "De manera recurrente encontramos en el proceso de conteo electoral el aumento o disminuciòn de los votos correspondientes a determinados candidatos,lo cual no refleja la voluntad popular al asistir a las urnas,ya que de una manera u otra se altera esta al contabilizar los sufragios correspondientes al candidato votado.\n",
    "Y como no se cuenta con un instrumento que permita controlar las acciones de los jurados,esto nos lleva a que en la manualidad se cometan y repitan los mismos errores.\n",
    "Esto acompañado del poco tiempo y disponibilidad de los testigos electorales,para poder solicitar los ajustes respectivos en el cierre de mesa para asì acercarnos màs a la realidad.Entiendase la voluntad del votante.\n",
    "Con el producto a elaborar se mejorarìa la recepciòn de la informaciòn,acercandonos màs a la realidad y disminuyendo los tiempos para reaccionar en torno a las lecturas de escrutinios,ya que los datos de los resultados los tendriamos casi en tiempo real."
   ]
  },
  {
   "cell_type": "code",
   "execution_count": null,
   "id": "1b16a4d9-5077-452d-95c7-90dae85dd9ab",
   "metadata": {},
   "outputs": [],
   "source": []
  }
 ],
 "metadata": {
  "kernelspec": {
   "display_name": "Python 3 (ipykernel)",
   "language": "python",
   "name": "python3"
  },
  "language_info": {
   "codemirror_mode": {
    "name": "ipython",
    "version": 3
   },
   "file_extension": ".py",
   "mimetype": "text/x-python",
   "name": "python",
   "nbconvert_exporter": "python",
   "pygments_lexer": "ipython3",
   "version": "3.9.12"
  }
 },
 "nbformat": 4,
 "nbformat_minor": 5
}
