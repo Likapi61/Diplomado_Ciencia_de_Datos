{
 "cells": [
  {
   "cell_type": "raw",
   "id": "a08d24c1",
   "metadata": {},
   "source": [
    "**CONTROL A ELECCIONES MUNICIPALES EN BOLIVAR**"
   ]
  },
  {
   "cell_type": "raw",
   "id": "cbefe137",
   "metadata": {},
   "source": [
    "Este es un proyecto ciudadano basado en nuevas tecnologìas que le permitira a la sociedad civil voluntariada llevar a cabo un conteo real de los votos depositados en las urnas,para ejercer un voto soberano,autonomo e independiente,el cual arroje los datos reales sin manipulaciòn."
   ]
  },
  {
   "cell_type": "raw",
   "id": "6de37dd9",
   "metadata": {},
   "source": [
    "*Asesor principal: Profesor.Estadistico Alvaro Mauricio Montenegro."
   ]
  },
  {
   "cell_type": "raw",
   "id": "3dbe6084",
   "metadata": {},
   "source": [
    "*Autor:Estudiante.Ingeniero Luis Guillermo Vargas Aparicio."
   ]
  },
  {
   "cell_type": "markdown",
   "id": "30ef12f9",
   "metadata": {},
   "source": [
    "#Introducción"
   ]
  },
  {
   "cell_type": "raw",
   "id": "0d6e624b",
   "metadata": {},
   "source": [
    "En los comicios a cargos pùblicos de elecciòn popular nos hemos ido encontrando con un excesivo manoseo de la informaciòn,generando esto mayores eventos probabilisticos de errores humanos,los cuales muchas veces logran alterar la decision voluntaria de una gran comunidad,conllevando esto a inconformidades,protestas y demandas,las cuales alteran ,la convivencia ciudadana.\n",
    "Por ello este proyecto consiste en reducir el ejercicio manual y diriamos que rudimentario para avanzar en un producto màs acabado a nivel de introducciòn de nuevas tecnologìas para el computo de los datos y acercarnos màs a una realidad.\n",
    "Escalaremos de los viejos formatos en fotocopias y escritos manualmente,pasaremos de los formularios tipo Google en linea ,bastante practicados en època de pandemia a unas lecturas de los E-14 basado en Programaciòn Orientado en Objeto-POO,y recopilando los mensajes de los envios en WhatSapp,que deben coincidir con la lectura digital.\n",
    "Estos pasos nos conllevarian al cotejo con las matrices de los E-24 para consolidar datos y cruzarlos con los arrojados con los E-26."
   ]
  },
  {
   "cell_type": "markdown",
   "id": "ac72cf0a",
   "metadata": {},
   "source": [
    "#Descripción"
   ]
  },
  {
   "cell_type": "raw",
   "id": "66f1a5b9",
   "metadata": {},
   "source": [
    "De manera recurrente encontramos en el proceso de conteo electoral el aumento o disminuciòn de los votos correspondientes a determinados candidatos,lo cual no refleja la voluntad popular al asistir a las urnas,ya que de una manera u otra se altera esta al contabilizar los sufragios correspondientes al candidato votado.\n",
    "Y como no se cuenta con un instrumento que permita controlar las acciones de los jurados,esto nos lleva a que en la manualidad se cometan y repitan los mismos errores.\n",
    "Esto acompañado del poco tiempo y disponibilidad de los testigos electorales,para poder solicitar los ajustes respectivos en el cierre de mesa para asì acercarnos màs a la realidad.Entiendase la voluntad del votante.\n",
    "Con el producto a elaborar se mejorarìa la recepciòn de la informaciòn,acercandonos màs a la realidad y disminuyendo los tiempos para reaccionar en torno a las lecturas de escrutinios,ya que los datos de los resultados los tendriamos casi en tiempo real."
   ]
  },
  {
   "cell_type": "markdown",
   "id": "f09c81c4",
   "metadata": {},
   "source": [
    "##Identificación de actores:"
   ]
  },
  {
   "cell_type": "raw",
   "id": "3f1073a6",
   "metadata": {},
   "source": [
    "A.-Institucionales.\n",
    "   1-Registraduría Nacional\n",
    "   2-Registrador Municipal\n",
    "   3-Procuraduria.-Procurador delegado.\n",
    "   4-Notaría en las comisiones.\n",
    "   5-Jueces en las comisiones escrutadoras.\n",
    "   6-Jurados de votación.\n",
    "   7-Claveros.\n",
    "B.-Sociedad Civil.\n",
    "   1-Testigos electorales.\n",
    "   2-Movimiento de Observación Electoral-MOE.\n",
    "   3-Veeduría internacional.\n",
    "   4-Auditores.\n",
    "   5-Escrutadores."
   ]
  },
  {
   "cell_type": "raw",
   "id": "acf96d43",
   "metadata": {},
   "source": [
    "#Fuentes de datos"
   ]
  },
  {
   "cell_type": "raw",
   "id": "88c5e13a",
   "metadata": {},
   "source": [
    "Registraduría Nacional del Estado Civil.\n",
    "Base de Datos propia de Elecciones.\n",
    "Base de Datos Auditores Pacto.\n",
    "Base de Datos Divipol."
   ]
  },
  {
   "cell_type": "raw",
   "id": "32547072",
   "metadata": {},
   "source": [
    "#Resultados esperados"
   ]
  },
  {
   "cell_type": "raw",
   "id": "94a3e2fc",
   "metadata": {},
   "source": [
    "Con este proyecto esperamos obtener los siguentes resultados:\n",
    "1.-Método confiable de conteo de votos.\n",
    "2.-Conteo rápido por el tema de (real time).\n",
    "3.-Precisión del escrutinio por uso de técnologias.\n",
    "4.-Aplicación y uso de nuevas tecnologías.\n",
    "5.-Proyecto verde porque no genera uso de pael y tinta.\n",
    "6.-Satisfacción de los ciudadanos por el resultado eficiente.\n"
   ]
  },
  {
   "cell_type": "raw",
   "id": "de586ebb",
   "metadata": {},
   "source": []
  }
 ],
 "metadata": {
  "kernelspec": {
   "display_name": "Python 3 (ipykernel)",
   "language": "python",
   "name": "python3"
  },
  "language_info": {
   "codemirror_mode": {
    "name": "ipython",
    "version": 3
   },
   "file_extension": ".py",
   "mimetype": "text/x-python",
   "name": "python",
   "nbconvert_exporter": "python",
   "pygments_lexer": "ipython3",
   "version": "3.9.12"
  }
 },
 "nbformat": 4,
 "nbformat_minor": 5
}
